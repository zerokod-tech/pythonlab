{
 "cells": [
  {
   "cell_type": "code",
   "execution_count": 34,
   "id": "11644860",
   "metadata": {},
   "outputs": [
    {
     "name": "stdout",
     "output_type": "stream",
     "text": [
      "[0.41901699 0.41542573 0.61818038 0.64130478 0.05648089 0.29179523\n",
      " 0.17924327 0.53260753 0.33929636 0.29884242 0.77521392 0.5787448\n",
      " 0.87290162 0.72901415 0.74617765 0.74947564 0.73685334 0.95965374\n",
      " 0.45008407 0.57171122 0.89752654 0.36025407 0.12837606 0.84441959\n",
      " 0.63583091 0.22410953 0.15136457 0.69627375 0.91936481 0.96477969\n",
      " 0.12990454 0.33189363 0.02318035 0.36086399 0.7564304  0.29571929\n",
      " 0.92395834 0.31434101 0.71086017 0.30265831 0.93660013 0.79897471\n",
      " 0.69068248 0.95399817 0.02615637 0.77570366 0.11949035 0.43526676\n",
      " 0.68205577 0.06505439 0.86464367 0.41565579 0.11298    0.81348434\n",
      " 0.18365035 0.50358653 0.45918113 0.24655162 0.33474891 0.06092472\n",
      " 0.57299776 0.13964108 0.64297024 0.19867781 0.6160212  0.9048831\n",
      " 0.86074189 0.17570996 0.70378748 0.82605335 0.34162494 0.59047977\n",
      " 0.90308535 0.49268673 0.98475414 0.71656406 0.22996517 0.32782532\n",
      " 0.41713008 0.37125969 0.8295597  0.05727943 0.54082304 0.08108255\n",
      " 0.37863108 0.43049881 0.63900884 0.9480241  0.20141818 0.57903189\n",
      " 0.38942698 0.40733945 0.42968979 0.19168563 0.8947487  0.59233088\n",
      " 0.2731209  0.03563264 0.64466099 0.45826523]\n"
     ]
    },
    {
     "data": {
      "image/png": "[encoded data removed]",
      "text/plain": [
       "<Figure size 640x480 with 1 Axes>"
      ]
     },
     "metadata": {},
     "output_type": "display_data"
    }
   ],
   "source": [
    "import matplotlib.pyplot as plt\n",
    "#— — — — — — — — — — — — -Using numpy to create random variables----------------------\n",
    "import numpy as np\n",
    "x=np.random.rand(100)\n",
    "plt.hist(x,100) #-----100 refers to the number of bins\n",
    "plt.title(\"Normal distribution Graph\")\n",
    "plt.xlabel(\"Random numbers generated\")\n",
    "plt.ylabel(\"Density\")\n",
    "print(x)\n",
    "plt.show()"
   ]
  },
  {
   "cell_type": "markdown",
   "id": "2deee9f8",
   "metadata": {},
   "source": [
    "\n",
    "from matplotlib.backends.backend_agg import FigureCanvasAgg as FigureCanvas\n",
    "#— — — — — — — — — — — — -From Artist layer, importing Artist Figure: Artist layer knows how to use a renderer to draw an object----------------------\n",
    "from matplotlib.figure import Figure\n",
    "fig=Figure()\n",
    "canvas=FigureCanvas(fig) #-----passing object of artist layer to backend layer (Figure Canvas)\n",
    "#— — — — — — — — — — — — -Using numpy to create random variables----------------------\n",
    "import numpy as np\n",
    "x=np.random.rand(100)\n",
    "#— — — — — — — — — — — — -Plotting a histogram--------------------- \n",
    "ax=fig.add_subplot(111) \n",
    "ax.hist(x,100)\n",
    "fig, ax = plt.subplots(figsize=(x));\n",
    "ax.set_title('Normal Distribution')\n",
    "fig.savefig('matplotlib_histogram.png')\n",
    "#ax"
   ]
  },
  {
   "cell_type": "code",
   "execution_count": 33,
   "id": "bffe648e",
   "metadata": {},
   "outputs": [
    {
     "data": {
      "text/plain": [
       "<Axes: title={'center': 'Normal Distribution'}>"
      ]
     },
     "execution_count": 33,
     "metadata": {},
     "output_type": "execute_result"
    }
   ],
   "source": [
    "# — — — — — — — — — — — — - Backend Layer, Figure Canvas Layer: Encompases area in which figures are drawn — — — — — — — — — — — — -\n",
    "from matplotlib.backends.backend_agg import FigureCanvasAgg as FigureCanvas\n",
    "#— — — — — — — — — — — — -From Artist layer, importing Artist Figure: Artist layer knows how to use a renderer to draw an object----------------------\n",
    "from matplotlib.figure import Figure\n",
    "fig=Figure()\n",
    "canvas=FigureCanvas(fig) #-----passing object of artist layer to backend layer (Figure Canvas)\n",
    "#— — — — — — — — — — — — -Using numpy to create random variables----------------------\n",
    "import numpy as np\n",
    "x=np.random.rand(100)\n",
    "#— — — — — — — — — — — — -Plotting a histogram--------------------- \n",
    "ax=fig.add_subplot(111) \n",
    "ax.hist(x,100)\n",
    "ax.set_title('Normal Distribution')\n",
    "fig.savefig('matplotlib_histogram.png')\n",
    "ax"
   ]
  },
  {
   "cell_type": "code",
   "execution_count": 36,
   "id": "477e84e3",
   "metadata": {},
   "outputs": [],
   "source": [
    "#Remove Duplicate"
   ]
  },
  {
   "cell_type": "code",
   "execution_count": null,
   "id": "d3b7116b",
   "metadata": {},
   "outputs": [],
   "source": []
  },
  {
   "cell_type": "code",
   "execution_count": null,
   "id": "b13b0ecc",
   "metadata": {},
   "outputs": [],
   "source": []
  }
 ],
 "metadata": {
  "kernelspec": {
   "display_name": "Python 3 (ipykernel)",
   "language": "python",
   "name": "python3"
  },
  "language_info": {
   "codemirror_mode": {
    "name": "ipython",
    "version": 3
   },
   "file_extension": ".py",
   "mimetype": "text/x-python",
   "name": "python",
   "nbconvert_exporter": "python",
   "pygments_lexer": "ipython3",
   "version": "3.11.5"
  }
 },
 "nbformat": 4,
 "nbformat_minor": 5
}
